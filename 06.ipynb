{
 "cells": [
  {
   "cell_type": "markdown",
   "metadata": {},
   "source": [
    "# 6. 두 개 층 연결"
   ]
  },
  {
   "cell_type": "markdown",
   "metadata": {},
   "source": [
    "### 6.1 신경망 알고리즘 벡터화"
   ]
  },
  {
   "cell_type": "code",
   "execution_count": 1,
   "metadata": {},
   "outputs": [],
   "source": [
    "import numpy as np\n",
    "import matplotlib.pyplot as plt"
   ]
  },
  {
   "cell_type": "code",
   "execution_count": 3,
   "metadata": {},
   "outputs": [],
   "source": [
    "from sklearn.datasets import load_breast_cancer\n",
    "from sklearn.model_selection import train_test_split"
   ]
  },
  {
   "cell_type": "code",
   "execution_count": 4,
   "metadata": {},
   "outputs": [],
   "source": [
    "cancer = load_breast_cancer()\n",
    "x = cancer.data\n",
    "y = cancer.target\n",
    "x_train_all, x_test, y_train_all, y_test = train_test_split(x, y, stratify=y,\n",
    "                                                            test_size=0.2, random_state=42)\n",
    "x_train, x_val, y_train, y_val = train_test_split(x_train_all, y_train_all, stratify=y_train_all,\n",
    "                                                  test_size = 0.2, random_state=42)\n"
   ]
  },
  {
   "cell_type": "code",
   "execution_count": 5,
   "metadata": {},
   "outputs": [
    {
     "name": "stdout",
     "output_type": "stream",
     "text": [
      "(364, 30) (91, 30)\n"
     ]
    }
   ],
   "source": [
    "print(x_train.shape, x_val.shape)"
   ]
  },
  {
   "cell_type": "code",
   "execution_count": 6,
   "metadata": {},
   "outputs": [],
   "source": [
    "class SingleLayer:\n",
    "\n",
    "    def __init__(self, learning_rate=0.1, l1=0, l2=0):\n",
    "        self.w = None      # 가중치\n",
    "        self.b = None      # 절편\n",
    "        self.losses = []   # 훈련 손실\n",
    "        self.val_losses = []  # 검증 손실\n",
    "        self.w_history = []   # 가중치 기록 \n",
    "        self.lr = learning_rate  # 학습률\n",
    "        self.l1 = l1    # L1 손실 하이퍼파라미터\n",
    "        self.l2 = l2    # L2 손실 하이퍼파라미터\n",
    "\n",
    "    def forpass(self, x):\n",
    "        z = np.dot(x, self.w) + self.b   # 선형 출력 계산\n",
    "        return z\n",
    "    \n",
    "    def backprop(self, x, err):\n",
    "        m = len(x)\n",
    "        w_grad = np.dot(x.T, err) / m   # 가중치 그래디언트 계산\n",
    "        b_grad = np.sum(err) / m        # 절편 그래디언트 계산\n",
    "        return w_grad, b_grad\n",
    "    \n",
    "    def activation(self, z):\n",
    "        z = np.clip(z, -100, None)      # 안전한 np.exp() 계산\n",
    "        a = 1 / (1 + np.exp(-z))        # 시그모이드 계산\n",
    "        return a\n",
    "    \n",
    "    def fit(self, x, y, epochs=100, x_val=None, y_val=None):\n",
    "        y = y.reshape(-1, 1)            # 타깃을 열 벡터로 바꿈\n",
    "        y_val = y_val.reshape(-1, 1)\n",
    "        m = len(x)                      # 샘플 개수를 저장\n",
    "        self.w = np.ones((x.shape[1], 1))  # 가중치 초기화\n",
    "        self.b = 0                        # 절편 초기화\n",
    "        self.w_history.append(self.w.copy())  # 가중치 기록\n",
    "\n",
    "        for i in range(epochs):\n",
    "            z = self.forpass(x)            # 정방향 계산 수행\n",
    "            a = self.activation(z)         # 활성화 함수 적용\n",
    "            err = -(y - a)                 # 오차 계산\n",
    "            w_grad, b_grad = self.backprop(x, err)  # 오차 역전파 그래디언트 계산\n",
    "            w_grad += (self.l1 * np.sign(self.w) + self.l2 * self.w) / m  # 그래디언트에 대한 패널티 항 미분값 더함\n",
    "            self.w -= self.lr * w_grad      # 그래디언트에 패널티 항 미분값 더함\n",
    "            self.b -= self.lr * b_grad      # 가중치 절편 업데이트\n",
    "            self.w_history.append(self.w.copy())   # 가중치 기록\n",
    "            a = np.clip(a, 1e-10, 1-1e-10)   # 안전한 로그 계산 클리핑\n",
    "            loss = np.sum(-(y*np.log(a) + (1-y)*np.log(1-a)))  # 로그 손실과 규제 손실 더하여 리스트 추가\n",
    "            self.losses.append((loss + self.reg_loss()) / m)   \n",
    "            self.update_val_loss(x_val, y_val)  # 검증 세트에 대한 손실 계산\n",
    "\n",
    "\n",
    "    def predict(self, x):\n",
    "        z = self.forpass(x)    # 정방향 계산 수행\n",
    "        return z > 0          # 스텝 함수 적용\n",
    "        \n",
    "    def score(self, x, y):\n",
    "            # 예측과 타깃 열 벡터를 비교하여 True의 비율 반환\n",
    "        return np.mean(self.predict(x) == y.reshape(-1, 1))\n",
    "        \n",
    "    def reg_loss(self):\n",
    "        return self.l1 * np.sum(np.abs(self.w) + self.l2 / 2 * np.sum(self.w**2))  # 가중치 규제 적용\n",
    "        \n",
    "    def update_val_loss(self, x_val, y_val):\n",
    "        z = self.forpass(x_val)   # 정방향 계산 수행\n",
    "        a = self.activation(z)    # 활성화 함수 적용\n",
    "        a = np.clip(a, 1e-10, 1-1e-10)   # 출력값 클리핑\n",
    "        val_loss = np.sum(-(y_val*np.log(a) + (1-y_val)*np.log(1-a)))   # 로그 손실과 규제 손실 더하여 리스트 추가\n",
    "        self.val_losses.append((val_loss + self.reg_loss()) / len(y_val))\n",
    "\n"
   ]
  },
  {
   "cell_type": "code",
   "execution_count": 7,
   "metadata": {},
   "outputs": [],
   "source": [
    "from sklearn.preprocessing import StandardScaler"
   ]
  },
  {
   "cell_type": "markdown",
   "metadata": {},
   "source": [
    "- StandardScaler\n",
    "\n",
    "Scikit-Learn (또는 sklearn) 라이브러리에서 제공하는 데이터 전처리 도구 중 하나\n",
    "\n",
    "데이터의 스케일을 조정하고 정규화하는 데 사용\n",
    "\n",
    "StandardScaler는 주로 다음과 같은 단계로 사용됩니다\n",
    "\n",
    "1. 데이터를 불러오거나 생성합니다.\n",
    "2. StandardScaler 객체를 생성합니다.\n",
    "3. fit 메서드를 사용하여 StandardScaler를 데이터에 맞춥니다. 이렇게 하면 각 특성의 평균과 표준 편차를 계산합니다.\n",
    "4. transform 메서드를 사용하여 데이터를 실제로 스케일링합니다. 이렇게 하면 각 특성의 값을 평균이 0이고 표준 편차가 1인 분포로 변환"
   ]
  },
  {
   "cell_type": "code",
   "execution_count": 8,
   "metadata": {},
   "outputs": [],
   "source": [
    "scaler = StandardScaler()\n",
    "scaler.fit(x_train)\n",
    "x_train_scaled = scaler.transform(x_train)\n",
    "x_val_scaled = scaler.transform(x_val)"
   ]
  },
  {
   "cell_type": "code",
   "execution_count": 9,
   "metadata": {},
   "outputs": [
    {
     "data": {
      "text/plain": [
       "0.978021978021978"
      ]
     },
     "execution_count": 9,
     "metadata": {},
     "output_type": "execute_result"
    }
   ],
   "source": [
    "single_layer = SingleLayer(l2 = 0.01)\n",
    "single_layer.fit(x_train_scaled, y_train,\n",
    "                 x_val=x_val_scaled, y_val=y_val, epochs=10000)\n",
    "single_layer.score(x_val_scaled, y_val)\n"
   ]
  },
  {
   "cell_type": "code",
   "execution_count": 10,
   "metadata": {},
   "outputs": [
    {
     "data": {
      "image/png": "[encoded data removed]",
      "text/plain": [
       "<Figure size 640x480 with 1 Axes>"
      ]
     },
     "metadata": {},
     "output_type": "display_data"
    }
   ],
   "source": [
    "plt.ylim(0, 0.3)\n",
    "plt.plot(single_layer.losses)\n",
    "plt.plot(single_layer.val_losses)\n",
    "plt.ylabel('loss')\n",
    "plt.xlabel('epoch')\n",
    "plt.legend(['train_loss', 'val_loss'])\n",
    "plt.show()"
   ]
  },
  {
   "cell_type": "code",
   "execution_count": 28,
   "metadata": {},
   "outputs": [
    {
     "data": {
      "image/png": "[encoded data removed]",
      "text/plain": [
       "<Figure size 640x480 with 1 Axes>"
      ]
     },
     "metadata": {},
     "output_type": "display_data"
    }
   ],
   "source": [
    "w2 = []\n",
    "w3 = []\n",
    "for w in single_layer.w_history:\n",
    "    w2.append(w[2])\n",
    "    w3.append(w[3])\n",
    "plt.plot(w2, w3)\n",
    "plt.plot(w3[-1], w3[-1], 'ro')\n",
    "plt.xlabel('w[2]')\n",
    "plt.ylabel('w[3]')\n",
    "plt.show()"
   ]
  },
  {
   "cell_type": "markdown",
   "metadata": {},
   "source": [
    "### 6.2 2개의 층 연결"
   ]
  },
  {
   "cell_type": "code",
   "execution_count": 23,
   "metadata": {},
   "outputs": [],
   "source": [
    "class DualLayer(SingleLayer):\n",
    "    \n",
    "    def __init__(self, units=10, learning_rate=0.1, l1=0, l2=0):\n",
    "        self.units = units         # 은닉층의 뉴런 개수\n",
    "        self.w1 = None             # 은닉층의 가중치\n",
    "        self.b1 = None             # 은닉층의 절편\n",
    "        self.w2 = None             # 출력층의 가중치\n",
    "        self.b2 = None             # 출력층의 절편\n",
    "        self.a1 = None             # 은닉층의 활성화 출력\n",
    "        self.losses = []           # 훈련 손실\n",
    "        self.val_losses = []       # 검증 손실\n",
    "        self.lr = learning_rate    # 학습률\n",
    "        self.l1 = l1               # L1 손실 하이퍼파라미터\n",
    "        self.l2 = l2               # L2 손실 하이퍼파라미터\n",
    "\n",
    "    def forpass(self, x):\n",
    "        z1 = np.dot(x, self.w1) + self.b1        # 첫 번째 층의 선형 식을 계산합니다\n",
    "        self.a1 = self.activation(z1)            # 활성화 함수를 적용합니다\n",
    "        z2 = np.dot(self.a1, self.w2) + self.b2  # 두 번째 층의 선형 식을 계산합니다.\n",
    "        return z2\n",
    "\n",
    "    def backprop(self, x, err):\n",
    "        m = len(x)       # 샘플 개수\n",
    "        # 출력층의 가중치와 절편에 대한 그래디언트를 계산합니다.\n",
    "        w2_grad = np.dot(self.a1.T, err) / m\n",
    "        b2_grad = np.sum(err) / m\n",
    "        # 시그모이드 함수까지 그래디언트를 계산합니다.\n",
    "        err_to_hidden = np.dot(err, self.w2.T) * self.a1 * (1 - self.a1)\n",
    "        # 은닉층의 가중치와 절편에 대한 그래디언트를 계산합니다.\n",
    "        w1_grad = np.dot(x.T, err_to_hidden) / m\n",
    "        b1_grad = np.sum(err_to_hidden, axis=0) / m\n",
    "        return w1_grad, b1_grad, w2_grad, b2_grad\n",
    "\n",
    "    def init_weights(self, n_features):\n",
    "        self.w1 = np.ones((n_features, self.units))  # (특성 개수, 은닉층의 크기)\n",
    "        self.b1 = np.zeros(self.units)               # 은닉층의 크기\n",
    "        self.w2 = np.ones((self.units, 1))           # (은닉층의 크기, 1)\n",
    "        self.b2 = 0\n",
    "        \n",
    "    def fit(self, x, y, epochs=100, x_val=None, y_val=None):\n",
    "        y = y.reshape(-1, 1)          # 타깃을 열 벡터로 바꿉니다.\n",
    "        y_val = y_val.reshape(-1, 1)\n",
    "        m = len(x)                    # 샘플 개수를 저장합니다.\n",
    "        self.init_weights(x.shape[1]) # 은닉층과 출력층의 가중치를 초기화합니다.\n",
    "        # epochs만큼 반복합니다.\n",
    "        for i in range(epochs):\n",
    "            a = self.training(x, y, m)\n",
    "            # 안전한 로그 계산을 위해 클리핑합니다.\n",
    "            a = np.clip(a, 1e-10, 1-1e-10)\n",
    "            # 로그 손실과 규제 손실을 더하여 리스트에 추가합니다.\n",
    "            loss = np.sum(-(y*np.log(a) + (1-y)*np.log(1-a)))\n",
    "            self.losses.append((loss + self.reg_loss()) / m)\n",
    "            # 검증 세트에 대한 손실을 계산합니다.\n",
    "            self.update_val_loss(x_val, y_val)\n",
    "            \n",
    "    def training(self, x, y, m):\n",
    "        z = self.forpass(x)       # 정방향 계산을 수행합니다.\n",
    "        a = self.activation(z)    # 활성화 함수를 적용합니다.\n",
    "        err = -(y - a)            # 오차를 계산합니다.\n",
    "        # 오차를 역전파하여 그래디언트를 계산합니다.\n",
    "        w1_grad, b1_grad, w2_grad, b2_grad = self.backprop(x, err)\n",
    "        # 그래디언트에 페널티 항의 미분 값을 더합니다\n",
    "        w1_grad += (self.l1 * np.sign(self.w1) + self.l2 * self.w1) / m\n",
    "        w2_grad += (self.l1 * np.sign(self.w2) + self.l2 * self.w2) / m\n",
    "        # 은닉층의 가중치와 절편을 업데이트합니다.\n",
    "        self.w1 -= self.lr * w1_grad\n",
    "        self.b1 -= self.lr * b1_grad\n",
    "        # 출력층의 가중치와 절편을 업데이트합니다.\n",
    "        self.w2 -= self.lr * w2_grad\n",
    "        self.b2 -= self.lr * b2_grad\n",
    "        return a\n",
    "    \n",
    "    def reg_loss(self):\n",
    "        # 은닉층과 출력층의 가중치에 규제를 적용합니다.\n",
    "        return self.l1 * (np.sum(np.abs(self.w1)) + np.sum(np.abs(self.w2))) + \\\n",
    "               self.l2 / 2 * (np.sum(self.w1**2) + np.sum(self.w2**2))"
   ]
  },
  {
   "cell_type": "code",
   "execution_count": 24,
   "metadata": {},
   "outputs": [
    {
     "data": {
      "text/plain": [
       "0.978021978021978"
      ]
     },
     "execution_count": 24,
     "metadata": {},
     "output_type": "execute_result"
    }
   ],
   "source": [
    "dual_layer = DualLayer(l2=0.01)\n",
    "dual_layer.fit(x_train_scaled, y_train,\n",
    "               x_val=x_val_scaled, y_val=y_val, epochs=20000)\n",
    "dual_layer.score(x_val_scaled, y_val)"
   ]
  },
  {
   "cell_type": "code",
   "execution_count": 25,
   "metadata": {},
   "outputs": [
    {
     "data": {
      "text/plain": [
       "<matplotlib.legend.Legend at 0x21626f9a3a0>"
      ]
     },
     "execution_count": 25,
     "metadata": {},
     "output_type": "execute_result"
    },
    {
     "data": {
      "image/png": "[encoded data removed]",
      "text/plain": [
       "<Figure size 640x480 with 1 Axes>"
      ]
     },
     "metadata": {},
     "output_type": "display_data"
    }
   ],
   "source": [
    "# y축 범위를 0에서 0.3으로 설정합니다.\n",
    "plt.ylim(0, 0.3)\n",
    "\n",
    "# 학습 손실(train_loss)을 그래프로 표시합니다.\n",
    "plt.plot(dual_layer.losses)\n",
    "\n",
    "# 검증 손실(val_loss)을 그래프로 표시합니다.\n",
    "plt.plot(dual_layer.val_losses)\n",
    "\n",
    "# y축에 레이블을 추가합니다.\n",
    "plt.ylabel('loss')\n",
    "\n",
    "# x축에 레이블을 추가합니다.\n",
    "plt.xlabel('epoch')\n",
    "\n",
    "# 그래프에 범례를 추가합니다.\n",
    "plt.legend(['train_loss', 'val_loss'])"
   ]
  },
  {
   "cell_type": "code",
   "execution_count": 21,
   "metadata": {},
   "outputs": [],
   "source": [
    "class RandomlnotNetwork(DualLayer):\n",
    "\n",
    "    def init_weights(self, n_festures):\n",
    "        np.random.seed(42)\n",
    "        self.w1 = np.random.normal(0, 1,\n",
    "                                   (n_festures, self.units))    # (특성 개수, 은닉층의 크기)\n",
    "        self.b1 = np.zeros(self.units)                          # 은닉층의 크기\n",
    "        self.w2 = np.random.normal(0, 1,\n",
    "                                   (self.units, 1))             # (은닉층의 크기, 1)\n",
    "        self.v2 = 0"
   ]
  },
  {
   "cell_type": "markdown",
   "metadata": {},
   "source": [
    "### 여기부터 오류뜬 이유를 몰라서 일단 복붙만 진행"
   ]
  },
  {
   "cell_type": "code",
   "execution_count": 26,
   "metadata": {},
   "outputs": [
    {
     "ename": "TypeError",
     "evalue": "unsupported operand type(s) for +: 'float' and 'NoneType'",
     "output_type": "error",
     "traceback": [
      "\u001b[1;31m---------------------------------------------------------------------------\u001b[0m",
      "\u001b[1;31mTypeError\u001b[0m                                 Traceback (most recent call last)",
      "\u001b[1;32mc:\\Users\\whgml\\Desktop\\메타버스아카데미_DS\\이미지처리\\딥러닝_CNN\\딥러닝_날코딩_6.ipynb Cell 19\u001b[0m line \u001b[0;36m2\n\u001b[0;32m      <a href='vscode-notebook-cell:/c%3A/Users/whgml/Desktop/%EB%A9%94%ED%83%80%EB%B2%84%EC%8A%A4%EC%95%84%EC%B9%B4%EB%8D%B0%EB%AF%B8_DS/%EC%9D%B4%EB%AF%B8%EC%A7%80%EC%B2%98%EB%A6%AC/%EB%94%A5%EB%9F%AC%EB%8B%9D_CNN/%EB%94%A5%EB%9F%AC%EB%8B%9D_%EB%82%A0%EC%BD%94%EB%94%A9_6.ipynb#X30sZmlsZQ%3D%3D?line=0'>1</a>\u001b[0m randon_init_net \u001b[39m=\u001b[39m RandomlnotNetwork(l2\u001b[39m=\u001b[39m\u001b[39m0.01\u001b[39m)\n\u001b[1;32m----> <a href='vscode-notebook-cell:/c%3A/Users/whgml/Desktop/%EB%A9%94%ED%83%80%EB%B2%84%EC%8A%A4%EC%95%84%EC%B9%B4%EB%8D%B0%EB%AF%B8_DS/%EC%9D%B4%EB%AF%B8%EC%A7%80%EC%B2%98%EB%A6%AC/%EB%94%A5%EB%9F%AC%EB%8B%9D_CNN/%EB%94%A5%EB%9F%AC%EB%8B%9D_%EB%82%A0%EC%BD%94%EB%94%A9_6.ipynb#X30sZmlsZQ%3D%3D?line=1'>2</a>\u001b[0m randon_init_net\u001b[39m.\u001b[39;49mfit(x_train_scaled, y_train,\n\u001b[0;32m      <a href='vscode-notebook-cell:/c%3A/Users/whgml/Desktop/%EB%A9%94%ED%83%80%EB%B2%84%EC%8A%A4%EC%95%84%EC%B9%B4%EB%8D%B0%EB%AF%B8_DS/%EC%9D%B4%EB%AF%B8%EC%A7%80%EC%B2%98%EB%A6%AC/%EB%94%A5%EB%9F%AC%EB%8B%9D_CNN/%EB%94%A5%EB%9F%AC%EB%8B%9D_%EB%82%A0%EC%BD%94%EB%94%A9_6.ipynb#X30sZmlsZQ%3D%3D?line=2'>3</a>\u001b[0m                     x_val\u001b[39m=\u001b[39;49mx_val_scaled, y_val\u001b[39m=\u001b[39;49my_val, epochs\u001b[39m=\u001b[39;49m\u001b[39m500\u001b[39;49m)\n",
      "\u001b[1;32mc:\\Users\\whgml\\Desktop\\메타버스아카데미_DS\\이미지처리\\딥러닝_CNN\\딥러닝_날코딩_6.ipynb Cell 19\u001b[0m line \u001b[0;36m4\n\u001b[0;32m     <a href='vscode-notebook-cell:/c%3A/Users/whgml/Desktop/%EB%A9%94%ED%83%80%EB%B2%84%EC%8A%A4%EC%95%84%EC%B9%B4%EB%8D%B0%EB%AF%B8_DS/%EC%9D%B4%EB%AF%B8%EC%A7%80%EC%B2%98%EB%A6%AC/%EB%94%A5%EB%9F%AC%EB%8B%9D_CNN/%EB%94%A5%EB%9F%AC%EB%8B%9D_%EB%82%A0%EC%BD%94%EB%94%A9_6.ipynb#X30sZmlsZQ%3D%3D?line=44'>45</a>\u001b[0m \u001b[39m# epochs만큼 반복합니다.\u001b[39;00m\n\u001b[0;32m     <a href='vscode-notebook-cell:/c%3A/Users/whgml/Desktop/%EB%A9%94%ED%83%80%EB%B2%84%EC%8A%A4%EC%95%84%EC%B9%B4%EB%8D%B0%EB%AF%B8_DS/%EC%9D%B4%EB%AF%B8%EC%A7%80%EC%B2%98%EB%A6%AC/%EB%94%A5%EB%9F%AC%EB%8B%9D_CNN/%EB%94%A5%EB%9F%AC%EB%8B%9D_%EB%82%A0%EC%BD%94%EB%94%A9_6.ipynb#X30sZmlsZQ%3D%3D?line=45'>46</a>\u001b[0m \u001b[39mfor\u001b[39;00m i \u001b[39min\u001b[39;00m \u001b[39mrange\u001b[39m(epochs):\n\u001b[1;32m---> <a href='vscode-notebook-cell:/c%3A/Users/whgml/Desktop/%EB%A9%94%ED%83%80%EB%B2%84%EC%8A%A4%EC%95%84%EC%B9%B4%EB%8D%B0%EB%AF%B8_DS/%EC%9D%B4%EB%AF%B8%EC%A7%80%EC%B2%98%EB%A6%AC/%EB%94%A5%EB%9F%AC%EB%8B%9D_CNN/%EB%94%A5%EB%9F%AC%EB%8B%9D_%EB%82%A0%EC%BD%94%EB%94%A9_6.ipynb#X30sZmlsZQ%3D%3D?line=46'>47</a>\u001b[0m     a \u001b[39m=\u001b[39m \u001b[39mself\u001b[39;49m\u001b[39m.\u001b[39;49mtraining(x, y, m)\n\u001b[0;32m     <a href='vscode-notebook-cell:/c%3A/Users/whgml/Desktop/%EB%A9%94%ED%83%80%EB%B2%84%EC%8A%A4%EC%95%84%EC%B9%B4%EB%8D%B0%EB%AF%B8_DS/%EC%9D%B4%EB%AF%B8%EC%A7%80%EC%B2%98%EB%A6%AC/%EB%94%A5%EB%9F%AC%EB%8B%9D_CNN/%EB%94%A5%EB%9F%AC%EB%8B%9D_%EB%82%A0%EC%BD%94%EB%94%A9_6.ipynb#X30sZmlsZQ%3D%3D?line=47'>48</a>\u001b[0m     \u001b[39m# 안전한 로그 계산을 위해 클리핑합니다.\u001b[39;00m\n\u001b[0;32m     <a href='vscode-notebook-cell:/c%3A/Users/whgml/Desktop/%EB%A9%94%ED%83%80%EB%B2%84%EC%8A%A4%EC%95%84%EC%B9%B4%EB%8D%B0%EB%AF%B8_DS/%EC%9D%B4%EB%AF%B8%EC%A7%80%EC%B2%98%EB%A6%AC/%EB%94%A5%EB%9F%AC%EB%8B%9D_CNN/%EB%94%A5%EB%9F%AC%EB%8B%9D_%EB%82%A0%EC%BD%94%EB%94%A9_6.ipynb#X30sZmlsZQ%3D%3D?line=48'>49</a>\u001b[0m     a \u001b[39m=\u001b[39m np\u001b[39m.\u001b[39mclip(a, \u001b[39m1e-10\u001b[39m, \u001b[39m1\u001b[39m\u001b[39m-\u001b[39m\u001b[39m1e-10\u001b[39m)\n",
      "\u001b[1;32mc:\\Users\\whgml\\Desktop\\메타버스아카데미_DS\\이미지처리\\딥러닝_CNN\\딥러닝_날코딩_6.ipynb Cell 19\u001b[0m line \u001b[0;36m5\n\u001b[0;32m     <a href='vscode-notebook-cell:/c%3A/Users/whgml/Desktop/%EB%A9%94%ED%83%80%EB%B2%84%EC%8A%A4%EC%95%84%EC%B9%B4%EB%8D%B0%EB%AF%B8_DS/%EC%9D%B4%EB%AF%B8%EC%A7%80%EC%B2%98%EB%A6%AC/%EB%94%A5%EB%9F%AC%EB%8B%9D_CNN/%EB%94%A5%EB%9F%AC%EB%8B%9D_%EB%82%A0%EC%BD%94%EB%94%A9_6.ipynb#X30sZmlsZQ%3D%3D?line=55'>56</a>\u001b[0m \u001b[39mdef\u001b[39;00m \u001b[39mtraining\u001b[39m(\u001b[39mself\u001b[39m, x, y, m):\n\u001b[1;32m---> <a href='vscode-notebook-cell:/c%3A/Users/whgml/Desktop/%EB%A9%94%ED%83%80%EB%B2%84%EC%8A%A4%EC%95%84%EC%B9%B4%EB%8D%B0%EB%AF%B8_DS/%EC%9D%B4%EB%AF%B8%EC%A7%80%EC%B2%98%EB%A6%AC/%EB%94%A5%EB%9F%AC%EB%8B%9D_CNN/%EB%94%A5%EB%9F%AC%EB%8B%9D_%EB%82%A0%EC%BD%94%EB%94%A9_6.ipynb#X30sZmlsZQ%3D%3D?line=56'>57</a>\u001b[0m     z \u001b[39m=\u001b[39m \u001b[39mself\u001b[39;49m\u001b[39m.\u001b[39;49mforpass(x)       \u001b[39m# 정방향 계산을 수행합니다.\u001b[39;00m\n\u001b[0;32m     <a href='vscode-notebook-cell:/c%3A/Users/whgml/Desktop/%EB%A9%94%ED%83%80%EB%B2%84%EC%8A%A4%EC%95%84%EC%B9%B4%EB%8D%B0%EB%AF%B8_DS/%EC%9D%B4%EB%AF%B8%EC%A7%80%EC%B2%98%EB%A6%AC/%EB%94%A5%EB%9F%AC%EB%8B%9D_CNN/%EB%94%A5%EB%9F%AC%EB%8B%9D_%EB%82%A0%EC%BD%94%EB%94%A9_6.ipynb#X30sZmlsZQ%3D%3D?line=57'>58</a>\u001b[0m     a \u001b[39m=\u001b[39m \u001b[39mself\u001b[39m\u001b[39m.\u001b[39mactivation(z)    \u001b[39m# 활성화 함수를 적용합니다.\u001b[39;00m\n\u001b[0;32m     <a href='vscode-notebook-cell:/c%3A/Users/whgml/Desktop/%EB%A9%94%ED%83%80%EB%B2%84%EC%8A%A4%EC%95%84%EC%B9%B4%EB%8D%B0%EB%AF%B8_DS/%EC%9D%B4%EB%AF%B8%EC%A7%80%EC%B2%98%EB%A6%AC/%EB%94%A5%EB%9F%AC%EB%8B%9D_CNN/%EB%94%A5%EB%9F%AC%EB%8B%9D_%EB%82%A0%EC%BD%94%EB%94%A9_6.ipynb#X30sZmlsZQ%3D%3D?line=58'>59</a>\u001b[0m     err \u001b[39m=\u001b[39m \u001b[39m-\u001b[39m(y \u001b[39m-\u001b[39m a)            \u001b[39m# 오차를 계산합니다.\u001b[39;00m\n",
      "\u001b[1;32mc:\\Users\\whgml\\Desktop\\메타버스아카데미_DS\\이미지처리\\딥러닝_CNN\\딥러닝_날코딩_6.ipynb Cell 19\u001b[0m line \u001b[0;36m1\n\u001b[0;32m     <a href='vscode-notebook-cell:/c%3A/Users/whgml/Desktop/%EB%A9%94%ED%83%80%EB%B2%84%EC%8A%A4%EC%95%84%EC%B9%B4%EB%8D%B0%EB%AF%B8_DS/%EC%9D%B4%EB%AF%B8%EC%A7%80%EC%B2%98%EB%A6%AC/%EB%94%A5%EB%9F%AC%EB%8B%9D_CNN/%EB%94%A5%EB%9F%AC%EB%8B%9D_%EB%82%A0%EC%BD%94%EB%94%A9_6.ipynb#X30sZmlsZQ%3D%3D?line=16'>17</a>\u001b[0m z1 \u001b[39m=\u001b[39m np\u001b[39m.\u001b[39mdot(x, \u001b[39mself\u001b[39m\u001b[39m.\u001b[39mw1) \u001b[39m+\u001b[39m \u001b[39mself\u001b[39m\u001b[39m.\u001b[39mb1        \u001b[39m# 첫 번째 층의 선형 식을 계산합니다\u001b[39;00m\n\u001b[0;32m     <a href='vscode-notebook-cell:/c%3A/Users/whgml/Desktop/%EB%A9%94%ED%83%80%EB%B2%84%EC%8A%A4%EC%95%84%EC%B9%B4%EB%8D%B0%EB%AF%B8_DS/%EC%9D%B4%EB%AF%B8%EC%A7%80%EC%B2%98%EB%A6%AC/%EB%94%A5%EB%9F%AC%EB%8B%9D_CNN/%EB%94%A5%EB%9F%AC%EB%8B%9D_%EB%82%A0%EC%BD%94%EB%94%A9_6.ipynb#X30sZmlsZQ%3D%3D?line=17'>18</a>\u001b[0m \u001b[39mself\u001b[39m\u001b[39m.\u001b[39ma1 \u001b[39m=\u001b[39m \u001b[39mself\u001b[39m\u001b[39m.\u001b[39mactivation(z1)            \u001b[39m# 활성화 함수를 적용합니다\u001b[39;00m\n\u001b[1;32m---> <a href='vscode-notebook-cell:/c%3A/Users/whgml/Desktop/%EB%A9%94%ED%83%80%EB%B2%84%EC%8A%A4%EC%95%84%EC%B9%B4%EB%8D%B0%EB%AF%B8_DS/%EC%9D%B4%EB%AF%B8%EC%A7%80%EC%B2%98%EB%A6%AC/%EB%94%A5%EB%9F%AC%EB%8B%9D_CNN/%EB%94%A5%EB%9F%AC%EB%8B%9D_%EB%82%A0%EC%BD%94%EB%94%A9_6.ipynb#X30sZmlsZQ%3D%3D?line=18'>19</a>\u001b[0m z2 \u001b[39m=\u001b[39m np\u001b[39m.\u001b[39;49mdot(\u001b[39mself\u001b[39;49m\u001b[39m.\u001b[39;49ma1, \u001b[39mself\u001b[39;49m\u001b[39m.\u001b[39;49mw2) \u001b[39m+\u001b[39;49m \u001b[39mself\u001b[39;49m\u001b[39m.\u001b[39;49mb2  \u001b[39m# 두 번째 층의 선형 식을 계산합니다.\u001b[39;00m\n\u001b[0;32m     <a href='vscode-notebook-cell:/c%3A/Users/whgml/Desktop/%EB%A9%94%ED%83%80%EB%B2%84%EC%8A%A4%EC%95%84%EC%B9%B4%EB%8D%B0%EB%AF%B8_DS/%EC%9D%B4%EB%AF%B8%EC%A7%80%EC%B2%98%EB%A6%AC/%EB%94%A5%EB%9F%AC%EB%8B%9D_CNN/%EB%94%A5%EB%9F%AC%EB%8B%9D_%EB%82%A0%EC%BD%94%EB%94%A9_6.ipynb#X30sZmlsZQ%3D%3D?line=19'>20</a>\u001b[0m \u001b[39mreturn\u001b[39;00m z2\n",
      "\u001b[1;31mTypeError\u001b[0m: unsupported operand type(s) for +: 'float' and 'NoneType'"
     ]
    }
   ],
   "source": [
    "randon_init_net = RandomlnotNetwork(l2=0.01)\n",
    "randon_init_net.fit(x_train_scaled, y_train,\n",
    "                    x_val=x_val_scaled, y_val=y_val, epochs=500)"
   ]
  },
  {
   "cell_type": "code",
   "execution_count": 27,
   "metadata": {},
   "outputs": [
    {
     "ename": "NameError",
     "evalue": "name 'random_init_net' is not defined",
     "output_type": "error",
     "traceback": [
      "\u001b[1;31m---------------------------------------------------------------------------\u001b[0m",
      "\u001b[1;31mNameError\u001b[0m                                 Traceback (most recent call last)",
      "\u001b[1;32mc:\\Users\\whgml\\Desktop\\메타버스아카데미_DS\\이미지처리\\딥러닝_CNN\\딥러닝_날코딩_6.ipynb Cell 20\u001b[0m line \u001b[0;36m1\n\u001b[1;32m----> <a href='vscode-notebook-cell:/c%3A/Users/whgml/Desktop/%EB%A9%94%ED%83%80%EB%B2%84%EC%8A%A4%EC%95%84%EC%B9%B4%EB%8D%B0%EB%AF%B8_DS/%EC%9D%B4%EB%AF%B8%EC%A7%80%EC%B2%98%EB%A6%AC/%EB%94%A5%EB%9F%AC%EB%8B%9D_CNN/%EB%94%A5%EB%9F%AC%EB%8B%9D_%EB%82%A0%EC%BD%94%EB%94%A9_6.ipynb#X31sZmlsZQ%3D%3D?line=0'>1</a>\u001b[0m plt\u001b[39m.\u001b[39mplot(random_init_net\u001b[39m.\u001b[39mlosses)\n\u001b[0;32m      <a href='vscode-notebook-cell:/c%3A/Users/whgml/Desktop/%EB%A9%94%ED%83%80%EB%B2%84%EC%8A%A4%EC%95%84%EC%B9%B4%EB%8D%B0%EB%AF%B8_DS/%EC%9D%B4%EB%AF%B8%EC%A7%80%EC%B2%98%EB%A6%AC/%EB%94%A5%EB%9F%AC%EB%8B%9D_CNN/%EB%94%A5%EB%9F%AC%EB%8B%9D_%EB%82%A0%EC%BD%94%EB%94%A9_6.ipynb#X31sZmlsZQ%3D%3D?line=1'>2</a>\u001b[0m plt\u001b[39m.\u001b[39mplot(random_init_net\u001b[39m.\u001b[39mval_losses)\n\u001b[0;32m      <a href='vscode-notebook-cell:/c%3A/Users/whgml/Desktop/%EB%A9%94%ED%83%80%EB%B2%84%EC%8A%A4%EC%95%84%EC%B9%B4%EB%8D%B0%EB%AF%B8_DS/%EC%9D%B4%EB%AF%B8%EC%A7%80%EC%B2%98%EB%A6%AC/%EB%94%A5%EB%9F%AC%EB%8B%9D_CNN/%EB%94%A5%EB%9F%AC%EB%8B%9D_%EB%82%A0%EC%BD%94%EB%94%A9_6.ipynb#X31sZmlsZQ%3D%3D?line=2'>3</a>\u001b[0m plt\u001b[39m.\u001b[39mylabel(\u001b[39m'\u001b[39m\u001b[39mloss\u001b[39m\u001b[39m'\u001b[39m)\n",
      "\u001b[1;31mNameError\u001b[0m: name 'random_init_net' is not defined"
     ]
    }
   ],
   "source": [
    "plt.plot(random_init_net.losses)\n",
    "plt.plot(random_init_net.val_losses)\n",
    "plt.ylabel('loss')\n",
    "plt.xlabel('epoch')\n",
    "plt.legend(['train_loss', 'val_loss'])\n",
    "plt.show()"
   ]
  },
  {
   "cell_type": "markdown",
   "metadata": {},
   "source": [
    "### 6-3 미니배치 "
   ]
  },
  {
   "cell_type": "code",
   "execution_count": null,
   "metadata": {},
   "outputs": [],
   "source": [
    "class MinibatchNetwork(RandomInitNetwork):\n",
    "    \n",
    "    def __init__(self, units=10, batch_size=32, learning_rate=0.1, l1=0, l2=0):\n",
    "        super().__init__(units, learning_rate, l1, l2)\n",
    "        self.batch_size = batch_size     # 배치 크기\n",
    "        \n",
    "    def fit(self, x, y, epochs=100, x_val=None, y_val=None):\n",
    "        y_val = y_val.reshape(-1, 1)     # 타깃을 열 벡터로 바꿉니다.\n",
    "        self.init_weights(x.shape[1])    # 은닉층과 출력층의 가중치를 초기화합니다.\n",
    "        np.random.seed(42)\n",
    "        # epochs만큼 반복합니다.\n",
    "        for i in range(epochs):\n",
    "            loss = 0\n",
    "            # 제너레이터 함수에서 반환한 미니배치를 순환합니다.\n",
    "            for x_batch, y_batch in self.gen_batch(x, y):\n",
    "                y_batch = y_batch.reshape(-1, 1) # 타깃을 열 벡터로 바꿉니다.\n",
    "                m = len(x_batch)                 # 샘플 개수를 저장합니다.\n",
    "                a = self.training(x_batch, y_batch, m)\n",
    "                # 안전한 로그 계산을 위해 클리핑합니다.\n",
    "                a = np.clip(a, 1e-10, 1-1e-10)\n",
    "                # 로그 손실과 규제 손실을 더하여 리스트에 추가합니다.\n",
    "                loss += np.sum(-(y_batch*np.log(a) + (1-y_batch)*np.log(1-a)))\n",
    "            self.losses.append((loss + self.reg_loss()) / len(x))\n",
    "            # 검증 세트에 대한 손실을 계산합니다.\n",
    "            self.update_val_loss(x_val, y_val)\n",
    "\n",
    "    # 미니배치 제너레이터 함수\n",
    "    def gen_batch(self, x, y):\n",
    "        length = len(x)\n",
    "        bins = length // self.batch_size # 미니배치 횟수\n",
    "        if length % self.batch_size:\n",
    "            bins += 1                    # 나누어 떨어지지 않을 때\n",
    "        indexes = np.random.permutation(np.arange(len(x))) # 인덱스를 섞습니다.\n",
    "        x = x[indexes]\n",
    "        y = y[indexes]\n",
    "        for i in range(bins):\n",
    "            start = self.batch_size * i\n",
    "            end = self.batch_size * (i + 1)\n",
    "            yield x[start:end], y[start:end]   # batch_size만큼 슬라이싱하여 반환합니다."
   ]
  },
  {
   "cell_type": "code",
   "execution_count": null,
   "metadata": {},
   "outputs": [],
   "source": [
    "minibatch_net = MinibatchNetwork(l2=0.01, batch_size=32)\n",
    "minibatch_net.fit(x_train_scaled, y_train, \n",
    "                  x_val=x_val_scaled, y_val=y_val, epochs=500)\n",
    "minibatch_net.score(x_val_scaled, y_val)"
   ]
  },
  {
   "cell_type": "code",
   "execution_count": null,
   "metadata": {},
   "outputs": [],
   "source": [
    "plt.plot(minibatch_net.losses)\n",
    "plt.plot(minibatch_net.val_losses)\n",
    "plt.ylabel('loss')\n",
    "plt.xlabel('iteration')\n",
    "plt.legend(['train_loss', 'val_loss'])\n",
    "plt.show()"
   ]
  },
  {
   "cell_type": "code",
   "execution_count": null,
   "metadata": {},
   "outputs": [],
   "source": [
    "minibatch_net = MinibatchNetwork(l2=0.01, batch_size=128)\n",
    "minibatch_net.fit(x_train_scaled, y_train, \n",
    "                  x_val=x_val_scaled, y_val=y_val, epochs=500)\n",
    "minibatch_net.score(x_val_scaled, y_val)"
   ]
  },
  {
   "cell_type": "code",
   "execution_count": null,
   "metadata": {},
   "outputs": [],
   "source": [
    "plt.plot(minibatch_net.losses)\n",
    "plt.plot(minibatch_net.val_losses)\n",
    "plt.ylabel('loss')\n",
    "plt.xlabel('iteration')\n",
    "plt.legend(['train_loss', 'val_loss'])\n",
    "plt.show()"
   ]
  },
  {
   "cell_type": "code",
   "execution_count": null,
   "metadata": {},
   "outputs": [],
   "source": [
    "from sklearn.neural_network import MLPClassifier\n",
    "mlp = MLPClassifier(hidden_layer_sizes=(10, ), activation='logistic',\n",
    "                    solver='sgd', alpha=0.01, batch_size=32,\n",
    "                    learning_rate_init=0.1, max_iter=1000)\n",
    "mlp.fit(x_train_scaled, y_train)\n",
    "mlp.score(x_val_scaled, y_val)"
   ]
  },
  {
   "cell_type": "code",
   "execution_count": null,
   "metadata": {},
   "outputs": [],
   "source": []
  }
 ],
 "metadata": {
  "kernelspec": {
   "display_name": "Python 3",
   "language": "python",
   "name": "python3"
  },
  "language_info": {
   "codemirror_mode": {
    "name": "ipython",
    "version": 3
   },
   "file_extension": ".py",
   "mimetype": "text/x-python",
   "name": "python",
   "nbconvert_exporter": "python",
   "pygments_lexer": "ipython3",
   "version": "3.9.17"
  },
  "orig_nbformat": 4
 },
 "nbformat": 4,
 "nbformat_minor": 2
}
